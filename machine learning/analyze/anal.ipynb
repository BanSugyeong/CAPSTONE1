{
 "cells": [
  {
   "cell_type": "code",
   "execution_count": 4,
   "metadata": {},
   "outputs": [],
   "source": [
    "import pandas as pd\n",
    "import numpy as np\n",
    "import matplotlib.pyplot as plt\n",
    "%matplotlib inline"
   ]
  },
  {
   "cell_type": "code",
   "execution_count": 1,
   "metadata": {},
   "outputs": [],
   "source": [
    "from sklearn import linear_model\n",
    "\n",
    "from sklearn.tree import DecisionTreeClassifier\n",
    "from sklearn.tree import DecisionTreeRegressor\n",
    "from sklearn.naive_bayes import GaussianNB\n",
    "\n",
    "from sklearn.model_selection import StratifiedKFold\n",
    "from sklearn.model_selection import cross_val_score\n",
    "from sklearn.model_selection import train_test_split\n",
    "\n",
    "from sklearn.metrics import confusion_matrix\n",
    "from sklearn.metrics import classification_report\n",
    "from sklearn.metrics import f1_score\n",
    "from sklearn.metrics import accuracy_score\n",
    "from sklearn.metrics import roc_auc_score\n",
    "from sklearn.metrics import mean_squared_error"
   ]
  },
  {
   "cell_type": "code",
   "execution_count": 5,
   "metadata": {},
   "outputs": [],
   "source": [
    "pop_male = pd.read_csv('1인가구_남자.csv', encoding='cp949', index_col=0)\n",
    "pop_female = pd.read_csv('1인가구_여자.csv', encoding='cp949', index_col=0)\n",
    "crime = pd.read_csv('년,월별 총 범죄데이터.csv', encoding='cp949', index_col=0)\n",
    "crime_rate = pd.read_csv('년도별 범죄율 데이터만.csv', encoding='cp949', index_col=0)\n",
    "pop = pd.read_csv('자치구별 주민등록인구.csv', encoding='cp949', index_col=0)"
   ]
  },
  {
   "cell_type": "code",
   "execution_count": 6,
   "metadata": {},
   "outputs": [],
   "source": [
    "df = pd.concat([pop_male, pop_female, crime, crime_rate, pop], axis=1)\n",
    "df.to_csv('crime_pop_all.csv', encoding='cp949')"
   ]
  },
  {
   "cell_type": "markdown",
   "metadata": {},
   "source": [
    "## 나이브베이즈 분석"
   ]
  },
  {
   "cell_type": "code",
   "execution_count": 7,
   "metadata": {},
   "outputs": [],
   "source": [
    "X = np.array(pd.DataFrame(df, columns = ['2020_30대_남자', '2021_30대_남자', '2022_30대_남자', '2020_30대_여자', '2021_30대_여자', '2022_30대_여자', '2020_40대_남자', '2021_40대_남자', '2022_40대_남자', '2020_40대_여자', '2021_40대_여자', '2022_40대_여자', '2022_50대_여자']))\n",
    "y = np.array(pd.DataFrame(df, columns = ['총범죄건수']))"
   ]
  },
  {
   "cell_type": "code",
   "execution_count": 13,
   "metadata": {},
   "outputs": [
    {
     "name": "stdout",
     "output_type": "stream",
     "text": [
      "X_train : [[ 5287  5806  6207  4373  4855  5409  3012  3105  3216  2520  2625  2692\n",
      "   2071]\n",
      " [ 5918  6431  6864  4141  4531  4972  4000  4097  4125  2538  2633  2673\n",
      "   2653]\n",
      " [10181 10501 10686 11286 11137 11018  5750  6018  6172  5804  6178  6384\n",
      "   3806]\n",
      " [ 4873  5298  5394  3844  4072  4272  3196  3237  3228  2458  2547  2603\n",
      "   2266]\n",
      " [ 6645  7304  7999  4593  5050  5559  4490  4575  4677  2779  2830  2970\n",
      "   2924]\n",
      " [ 2878  3256  3440  2085  2347  2548  2783  2907  2888  2066  2139  2217\n",
      "   2958]\n",
      " [ 8398  9099  9606  8562  9049  9495  4291  4408  4599  4278  4443  4592\n",
      "   3109]\n",
      " [ 5951  6380  6822  4440  4838  5371  4842  4828  4857  3062  3251  3332\n",
      "   4057]\n",
      " [ 7779  8395  9126  6904  7407  7989  4310  4438  4413  3258  3373  3579\n",
      "   3145]\n",
      " [ 8266  8968  9519  6111  6735  7057  4031  4269  4316  2897  2987  3178\n",
      "   2731]\n",
      " [ 6026  6713  6974  4755  5482  5891  4357  4572  4557  3172  3412  3571\n",
      "   3405]\n",
      " [ 2533  2806  3064  2140  2462  2629  1713  1749  1742  1280  1344  1413\n",
      "   1297]\n",
      " [12363 13593 14599  9712 11191 12501  6444  6877  7188  4808  5138  5447\n",
      "   4687]\n",
      " [ 3973  4239  4485  2738  2944  3146  3644  3642  3679  2420  2389  2389\n",
      "   3405]\n",
      " [10675 11258 11850 10196 10955 11542  6114  6469  6599  5363  5632  5889\n",
      "   4502]\n",
      " [ 4267  4767  5089  3064  3486  3735  3200  3318  3411  2462  2523  2603\n",
      "   2990]\n",
      " [ 4858  5228  5481  4149  4455  4722  2850  3008  3017  2461  2476  2622\n",
      "   2615]]\n",
      "X_test : [[ 6108  6894  7582  3225  3810  4487  3561  3712  3766  1888  1952  1988\n",
      "   2533]\n",
      " [ 4292  4911  5067  3138  3608  3744  3699  3774  3802  3165  3260  3332\n",
      "   4174]\n",
      " [10209 11268 12060  7215  8257  9154  4950  5132  5242  3260  3428  3601\n",
      "   2933]\n",
      " [ 6391  6764  6881  6162  6434  6516  3572  3766  3817  3508  3757  3874\n",
      "   2722]\n",
      " [ 6284  6743  7050  5388  5920  6384  4525  4571  4711  3751  3951  4058\n",
      "   4108]\n",
      " [20454 21558 23214 12690 13554 14745  8698  9189  9407  4638  4812  5096\n",
      "   4217]\n",
      " [ 2707  2882  2908  2197  2338  2539  1757  1768  1760  1502  1542  1549\n",
      "   1471]\n",
      " [ 5471  6059  6305  4163  4621  4695  3685  3832  3750  2892  3050  3134\n",
      "   3285]]\n",
      "y_train :  [[ 8349]\n",
      " [ 8449]\n",
      " [20117]\n",
      " [ 9142]\n",
      " [11452]\n",
      " [ 7946]\n",
      " [ 9720]\n",
      " [ 9926]\n",
      " [10105]\n",
      " [ 9154]\n",
      " [10697]\n",
      " [ 9791]\n",
      " [12719]\n",
      " [ 7913]\n",
      " [15204]\n",
      " [ 9173]\n",
      " [ 8852]]\n",
      "y_test : [[ 7793]\n",
      " [10238]\n",
      " [14228]\n",
      " [ 7395]\n",
      " [10604]\n",
      " [16422]\n",
      " [ 8677]\n",
      " [ 7758]]\n"
     ]
    }
   ],
   "source": [
    "X_train, X_test, y_train, y_test = train_test_split(X, y, test_size=0.3)\n",
    "\n",
    "print('X_train :', X_train)\n",
    "print('X_test :', X_test)\n",
    "print('y_train : ', y_train)\n",
    "print('y_test :', y_test)"
   ]
  },
  {
   "cell_type": "code",
   "execution_count": 14,
   "metadata": {},
   "outputs": [
    {
     "name": "stderr",
     "output_type": "stream",
     "text": [
      "c:\\Users\\DB-26\\AppData\\Local\\Programs\\Python\\Python39\\lib\\site-packages\\sklearn\\utils\\validation.py:1183: DataConversionWarning: A column-vector y was passed when a 1d array was expected. Please change the shape of y to (n_samples, ), for example using ravel().\n",
      "  y = column_or_1d(y, warn=True)\n"
     ]
    }
   ],
   "source": [
    "gnb_clf = GaussianNB()\n",
    "gnb_clf = gnb_clf.fit(X_train, y_train)"
   ]
  },
  {
   "cell_type": "code",
   "execution_count": 15,
   "metadata": {},
   "outputs": [],
   "source": [
    "gnb_prediction = gnb_clf.predict(X_test)"
   ]
  },
  {
   "cell_type": "code",
   "execution_count": 16,
   "metadata": {},
   "outputs": [],
   "source": [
    "fmeasure = round(f1_score(y_test, gnb_prediction, average = 'weighted'), 2)\n",
    "\n",
    "accuracy = round(accuracy_score(y_test, gnb_prediction, normalize = True), 2)"
   ]
  },
  {
   "cell_type": "code",
   "execution_count": 17,
   "metadata": {},
   "outputs": [
    {
     "data": {
      "text/html": [
       "<div>\n",
       "<style scoped>\n",
       "    .dataframe tbody tr th:only-of-type {\n",
       "        vertical-align: middle;\n",
       "    }\n",
       "\n",
       "    .dataframe tbody tr th {\n",
       "        vertical-align: top;\n",
       "    }\n",
       "\n",
       "    .dataframe thead th {\n",
       "        text-align: right;\n",
       "    }\n",
       "</style>\n",
       "<table border=\"1\" class=\"dataframe\">\n",
       "  <thead>\n",
       "    <tr style=\"text-align: right;\">\n",
       "      <th></th>\n",
       "      <th>Classifier</th>\n",
       "      <th>F-Measure</th>\n",
       "      <th>Accuracy</th>\n",
       "    </tr>\n",
       "  </thead>\n",
       "  <tbody>\n",
       "    <tr>\n",
       "      <th>0</th>\n",
       "      <td>Naive Bayes</td>\n",
       "      <td>0.0</td>\n",
       "      <td>0.0</td>\n",
       "    </tr>\n",
       "  </tbody>\n",
       "</table>\n",
       "</div>"
      ],
      "text/plain": [
       "    Classifier  F-Measure  Accuracy\n",
       "0  Naive Bayes        0.0       0.0"
      ]
     },
     "execution_count": 17,
     "metadata": {},
     "output_type": "execute_result"
    }
   ],
   "source": [
    "data_nbclf = pd.DataFrame(columns=['Classifier', 'F-Measure', 'Accuracy'])\n",
    "\n",
    "data_nbclf.loc[len(data_nbclf)] = ['Naive Bayes', fmeasure, accuracy]\n",
    "\n",
    "data_nbclf"
   ]
  },
  {
   "cell_type": "markdown",
   "metadata": {},
   "source": [
    "## Decision Tree"
   ]
  },
  {
   "cell_type": "code",
   "execution_count": 34,
   "metadata": {},
   "outputs": [],
   "source": [
    "X_train, X_test, y_train, y_test = train_test_split(X, y, test_size=0.4, random_state=42)"
   ]
  },
  {
   "cell_type": "code",
   "execution_count": 35,
   "metadata": {},
   "outputs": [
    {
     "name": "stdout",
     "output_type": "stream",
     "text": [
      "Mean Squared Error: 3556251.9\n"
     ]
    }
   ],
   "source": [
    "regressor = DecisionTreeRegressor()\n",
    "regressor.fit(X_train, y_train)\n",
    "\n",
    "# 예측\n",
    "y_pred = regressor.predict(X_test)\n",
    "\n",
    "# 회귀 평가 메트릭 계산\n",
    "mse = mean_squared_error(y_test, y_pred)\n",
    "print(f'Mean Squared Error: {mse}')"
   ]
  },
  {
   "cell_type": "code",
   "execution_count": 36,
   "metadata": {},
   "outputs": [
    {
     "name": "stdout",
     "output_type": "stream",
     "text": [
      "Train set:  [ 1  2  3  4  5  6  7  9 10 11 12 13 14 15 17 18 19 20 21 22 23 24]\n",
      "Test set:  [ 0  8 16]\n",
      "Train set:  [ 0  1  2  3  4  5  6  7  8 10 12 13 14 15 16 17 18 19 20 21 22 24]\n",
      "Test set:  [ 9 11 23]\n",
      "Train set:  [ 0  2  3  4  5  6  7  8  9 10 11 12 14 15 16 17 18 19 20 21 23 24]\n",
      "Test set:  [ 1 13 22]\n",
      "Train set:  [ 0  1  3  4  6  7  8  9 10 11 13 14 15 16 17 18 19 20 21 22 23 24]\n",
      "Test set:  [ 2  5 12]\n",
      "Train set:  [ 0  1  2  5  6  7  8  9 10 11 12 13 14 16 17 18 19 20 21 22 23 24]\n",
      "Test set:  [ 3  4 15]\n",
      "Train set:  [ 0  1  2  3  4  5  6  7  8  9 10 11 12 13 14 15 16 18 19 21 22 23 24]\n",
      "Test set:  [17 20]\n",
      "Train set:  [ 0  1  2  3  4  5  6  7  8  9 10 11 12 13 14 15 16 17 19 20 22 23 24]\n",
      "Test set:  [18 21]\n",
      "Train set:  [ 0  1  2  3  4  5  6  8  9 10 11 12 13 14 15 16 17 18 19 20 21 22 23]\n",
      "Test set:  [ 7 24]\n",
      "Train set:  [ 0  1  2  3  4  5  6  7  8  9 11 12 13 15 16 17 18 19 20 21 22 23 24]\n",
      "Test set:  [10 14]\n",
      "Train set:  [ 0  1  2  3  4  5  7  8  9 10 11 12 13 14 15 16 17 18 20 21 22 23 24]\n",
      "Test set:  [ 6 19]\n"
     ]
    }
   ],
   "source": [
    "from sklearn.model_selection import KFold\n",
    "\n",
    "kf = KFold(n_splits=10, shuffle=True, random_state=42)\n",
    "\n",
    "for train_index, test_index in kf.split(X, y):\n",
    "    print('Train set: ', train_index)\n",
    "    print('Test set: ', test_index)"
   ]
  },
  {
   "cell_type": "code",
   "execution_count": 40,
   "metadata": {},
   "outputs": [
    {
     "name": "stdout",
     "output_type": "stream",
     "text": [
      "K Fold Cross Validation Score\n",
      "[-37078019.66666666  -2447545.33333333   -558520.\n",
      "  -8251116.33333333  -2580949.66666667  -3402037.\n",
      "   -391208.5         -1139742.5         -4574889.\n",
      "  -7731026.        ]\n",
      "Average Accuracy\n",
      "-6815505.4\n"
     ]
    }
   ],
   "source": [
    "clf = DecisionTreeRegressor()\n",
    "scores = cross_val_score(clf, X, y, cv=kf, scoring='neg_mean_squared_error')\n",
    "print('K Fold Cross Validation Score')\n",
    "print(scores)\n",
    "print('Average Accuracy')\n",
    "print(scores.mean())"
   ]
  },
  {
   "cell_type": "code",
   "execution_count": 41,
   "metadata": {},
   "outputs": [
    {
     "ename": "NotFittedError",
     "evalue": "This DecisionTreeRegressor instance is not fitted yet. Call 'fit' with appropriate arguments before using this estimator.",
     "output_type": "error",
     "traceback": [
      "\u001b[1;31m---------------------------------------------------------------------------\u001b[0m",
      "\u001b[1;31mNotFittedError\u001b[0m                            Traceback (most recent call last)",
      "\u001b[1;32md:\\D드라이브 바탕화면\\갱\\대학교\\3-2\\캡스톤디자인1\\machine learning\\analyze\\anal.ipynb Cell 17\u001b[0m line \u001b[0;36m1\n\u001b[1;32m----> <a href='vscode-notebook-cell:/d%3A/D%EB%93%9C%EB%9D%BC%EC%9D%B4%EB%B8%8C%20%EB%B0%94%ED%83%95%ED%99%94%EB%A9%B4/%EA%B0%B1/%EB%8C%80%ED%95%99%EA%B5%90/3-2/%EC%BA%A1%EC%8A%A4%ED%86%A4%EB%94%94%EC%9E%90%EC%9D%B81/machine%20learning/analyze/anal.ipynb#X20sZmlsZQ%3D%3D?line=0'>1</a>\u001b[0m y_pred \u001b[39m=\u001b[39m clf\u001b[39m.\u001b[39;49mpredict(X_test)\n",
      "File \u001b[1;32mc:\\Users\\DB-26\\AppData\\Local\\Programs\\Python\\Python39\\lib\\site-packages\\sklearn\\tree\\_classes.py:499\u001b[0m, in \u001b[0;36mBaseDecisionTree.predict\u001b[1;34m(self, X, check_input)\u001b[0m\n\u001b[0;32m    476\u001b[0m \u001b[39mdef\u001b[39;00m \u001b[39mpredict\u001b[39m(\u001b[39mself\u001b[39m, X, check_input\u001b[39m=\u001b[39m\u001b[39mTrue\u001b[39;00m):\n\u001b[0;32m    477\u001b[0m \u001b[39m    \u001b[39m\u001b[39m\"\"\"Predict class or regression value for X.\u001b[39;00m\n\u001b[0;32m    478\u001b[0m \n\u001b[0;32m    479\u001b[0m \u001b[39m    For a classification model, the predicted class for each sample in X is\u001b[39;00m\n\u001b[1;32m   (...)\u001b[0m\n\u001b[0;32m    497\u001b[0m \u001b[39m        The predicted classes, or the predict values.\u001b[39;00m\n\u001b[0;32m    498\u001b[0m \u001b[39m    \"\"\"\u001b[39;00m\n\u001b[1;32m--> 499\u001b[0m     check_is_fitted(\u001b[39mself\u001b[39;49m)\n\u001b[0;32m    500\u001b[0m     X \u001b[39m=\u001b[39m \u001b[39mself\u001b[39m\u001b[39m.\u001b[39m_validate_X_predict(X, check_input)\n\u001b[0;32m    501\u001b[0m     proba \u001b[39m=\u001b[39m \u001b[39mself\u001b[39m\u001b[39m.\u001b[39mtree_\u001b[39m.\u001b[39mpredict(X)\n",
      "File \u001b[1;32mc:\\Users\\DB-26\\AppData\\Local\\Programs\\Python\\Python39\\lib\\site-packages\\sklearn\\utils\\validation.py:1461\u001b[0m, in \u001b[0;36mcheck_is_fitted\u001b[1;34m(estimator, attributes, msg, all_or_any)\u001b[0m\n\u001b[0;32m   1458\u001b[0m     \u001b[39mraise\u001b[39;00m \u001b[39mTypeError\u001b[39;00m(\u001b[39m\"\u001b[39m\u001b[39m%s\u001b[39;00m\u001b[39m is not an estimator instance.\u001b[39m\u001b[39m\"\u001b[39m \u001b[39m%\u001b[39m (estimator))\n\u001b[0;32m   1460\u001b[0m \u001b[39mif\u001b[39;00m \u001b[39mnot\u001b[39;00m _is_fitted(estimator, attributes, all_or_any):\n\u001b[1;32m-> 1461\u001b[0m     \u001b[39mraise\u001b[39;00m NotFittedError(msg \u001b[39m%\u001b[39m {\u001b[39m\"\u001b[39m\u001b[39mname\u001b[39m\u001b[39m\"\u001b[39m: \u001b[39mtype\u001b[39m(estimator)\u001b[39m.\u001b[39m\u001b[39m__name__\u001b[39m})\n",
      "\u001b[1;31mNotFittedError\u001b[0m: This DecisionTreeRegressor instance is not fitted yet. Call 'fit' with appropriate arguments before using this estimator."
     ]
    }
   ],
   "source": [
    "y_pred = clf.predict(X_test)"
   ]
  },
  {
   "cell_type": "code",
   "execution_count": 19,
   "metadata": {},
   "outputs": [
    {
     "name": "stdout",
     "output_type": "stream",
     "text": [
      "Confusion Matrix\n",
      "[[0 0 0 0 0 0 0 0 0]\n",
      " [1 0 0 0 0 0 0 0 0]\n",
      " [0 0 0 0 1 0 0 0 0]\n",
      " [0 0 0 0 0 1 0 0 0]\n",
      " [0 0 0 0 0 0 0 0 0]\n",
      " [0 0 0 0 0 0 0 0 0]\n",
      " [0 0 0 0 0 0 0 0 0]\n",
      " [0 0 0 0 1 0 0 0 0]\n",
      " [0 0 0 0 0 0 1 0 0]]\n"
     ]
    }
   ],
   "source": [
    "print('Confusion Matrix')\n",
    "print(confusion_matrix(y_test, y_pred))"
   ]
  },
  {
   "cell_type": "code",
   "execution_count": 38,
   "metadata": {},
   "outputs": [
    {
     "name": "stdout",
     "output_type": "stream",
     "text": [
      "Accuracy\n",
      "0.0\n"
     ]
    }
   ],
   "source": [
    "print('Accuracy')\n",
    "print(accuracy_score(y_test, y_pred, normalize=True))"
   ]
  },
  {
   "cell_type": "code",
   "execution_count": 39,
   "metadata": {},
   "outputs": [
    {
     "name": "stdout",
     "output_type": "stream",
     "text": [
      "Classification Report\n",
      "              precision    recall  f1-score   support\n",
      "\n",
      "      7395.0       0.00      0.00      0.00       0.0\n",
      "      7758.0       0.00      0.00      0.00       1.0\n",
      "      7793.0       0.00      0.00      0.00       0.0\n",
      "      7946.0       0.00      0.00      0.00       1.0\n",
      "      8449.0       0.00      0.00      0.00       0.0\n",
      "      8677.0       0.00      0.00      0.00       1.0\n",
      "      8852.0       0.00      0.00      0.00       1.0\n",
      "      9142.0       0.00      0.00      0.00       0.0\n",
      "      9154.0       0.00      0.00      0.00       1.0\n",
      "      9173.0       0.00      0.00      0.00       0.0\n",
      "      9791.0       0.00      0.00      0.00       1.0\n",
      "      9926.0       0.00      0.00      0.00       0.0\n",
      "     10105.0       0.00      0.00      0.00       1.0\n",
      "     10238.0       0.00      0.00      0.00       1.0\n",
      "     10697.0       0.00      0.00      0.00       1.0\n",
      "     15204.0       0.00      0.00      0.00       0.0\n",
      "     20117.0       0.00      0.00      0.00       1.0\n",
      "\n",
      "    accuracy                           0.00      10.0\n",
      "   macro avg       0.00      0.00      0.00      10.0\n",
      "weighted avg       0.00      0.00      0.00      10.0\n",
      "\n"
     ]
    },
    {
     "name": "stderr",
     "output_type": "stream",
     "text": [
      "c:\\Users\\DB-26\\AppData\\Local\\Programs\\Python\\Python39\\lib\\site-packages\\sklearn\\metrics\\_classification.py:1469: UndefinedMetricWarning: Precision and F-score are ill-defined and being set to 0.0 in labels with no predicted samples. Use `zero_division` parameter to control this behavior.\n",
      "  _warn_prf(average, modifier, msg_start, len(result))\n",
      "c:\\Users\\DB-26\\AppData\\Local\\Programs\\Python\\Python39\\lib\\site-packages\\sklearn\\metrics\\_classification.py:1469: UndefinedMetricWarning: Recall and F-score are ill-defined and being set to 0.0 in labels with no true samples. Use `zero_division` parameter to control this behavior.\n",
      "  _warn_prf(average, modifier, msg_start, len(result))\n",
      "c:\\Users\\DB-26\\AppData\\Local\\Programs\\Python\\Python39\\lib\\site-packages\\sklearn\\metrics\\_classification.py:1469: UndefinedMetricWarning: Precision and F-score are ill-defined and being set to 0.0 in labels with no predicted samples. Use `zero_division` parameter to control this behavior.\n",
      "  _warn_prf(average, modifier, msg_start, len(result))\n",
      "c:\\Users\\DB-26\\AppData\\Local\\Programs\\Python\\Python39\\lib\\site-packages\\sklearn\\metrics\\_classification.py:1469: UndefinedMetricWarning: Recall and F-score are ill-defined and being set to 0.0 in labels with no true samples. Use `zero_division` parameter to control this behavior.\n",
      "  _warn_prf(average, modifier, msg_start, len(result))\n",
      "c:\\Users\\DB-26\\AppData\\Local\\Programs\\Python\\Python39\\lib\\site-packages\\sklearn\\metrics\\_classification.py:1469: UndefinedMetricWarning: Precision and F-score are ill-defined and being set to 0.0 in labels with no predicted samples. Use `zero_division` parameter to control this behavior.\n",
      "  _warn_prf(average, modifier, msg_start, len(result))\n",
      "c:\\Users\\DB-26\\AppData\\Local\\Programs\\Python\\Python39\\lib\\site-packages\\sklearn\\metrics\\_classification.py:1469: UndefinedMetricWarning: Recall and F-score are ill-defined and being set to 0.0 in labels with no true samples. Use `zero_division` parameter to control this behavior.\n",
      "  _warn_prf(average, modifier, msg_start, len(result))\n"
     ]
    }
   ],
   "source": [
    "print('Classification Report')\n",
    "print(classification_report(y_test, y_pred))"
   ]
  },
  {
   "cell_type": "code",
   "execution_count": 22,
   "metadata": {},
   "outputs": [
    {
     "name": "stdout",
     "output_type": "stream",
     "text": [
      "StratifiedKFold(n_splits=10, random_state=None, shuffle=False)\n"
     ]
    }
   ],
   "source": [
    "skf = StratifiedKFold(n_splits=10)\n",
    "skf.get_n_splits(X, y)\n",
    "print(skf)"
   ]
  },
  {
   "cell_type": "code",
   "execution_count": 25,
   "metadata": {},
   "outputs": [
    {
     "ename": "SyntaxError",
     "evalue": "invalid syntax (364259391.py, line 1)",
     "output_type": "error",
     "traceback": [
      "\u001b[1;36m  Cell \u001b[1;32mIn[25], line 1\u001b[1;36m\u001b[0m\n\u001b[1;33m    str.count(sub[, start[, end]])\u001b[0m\n\u001b[1;37m                  ^\u001b[0m\n\u001b[1;31mSyntaxError\u001b[0m\u001b[1;31m:\u001b[0m invalid syntax\n"
     ]
    }
   ],
   "source": [
    "str.count(sub[, start[, end]])"
   ]
  },
  {
   "cell_type": "code",
   "execution_count": null,
   "metadata": {},
   "outputs": [],
   "source": []
  }
 ],
 "metadata": {
  "kernelspec": {
   "display_name": "Python 3",
   "language": "python",
   "name": "python3"
  },
  "language_info": {
   "codemirror_mode": {
    "name": "ipython",
    "version": 3
   },
   "file_extension": ".py",
   "mimetype": "text/x-python",
   "name": "python",
   "nbconvert_exporter": "python",
   "pygments_lexer": "ipython3",
   "version": "3.11.5"
  }
 },
 "nbformat": 4,
 "nbformat_minor": 2
}
