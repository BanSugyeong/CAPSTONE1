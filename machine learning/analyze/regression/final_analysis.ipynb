{
 "cells": [
  {
   "cell_type": "code",
   "execution_count": 42,
   "metadata": {},
   "outputs": [],
   "source": [
    "import pandas as pd\n",
    "import numpy as np\n",
    "import matplotlib.pyplot as plt\n",
    "\n",
    "import statsmodels.api as sm\n",
    "from sklearn.ensemble import RandomForestRegressor\n",
    "from sklearn.linear_model import LinearRegression\n",
    "from sklearn.tree import DecisionTreeRegressor\n",
    "from sklearn.svm import SVR\n",
    "from lightgbm import LGBMRegressor\n",
    "from sklearn.ensemble import VotingRegressor # 앙상블\n",
    "\n",
    "from sklearn.model_selection import train_test_split\n",
    "from sklearn.metrics import mean_squared_error\n",
    "from sklearn.metrics import mean_absolute_error, mean_squared_error"
   ]
  },
  {
   "cell_type": "code",
   "execution_count": 2,
   "metadata": {},
   "outputs": [],
   "source": [
    "month_crime = pd.read_csv('crime_seoul_all.csv', encoding='cp949', index_col=0)\n",
    "weather = pd.read_csv('s_weather.csv', encoding='cp949')\n",
    "pop = pd.read_csv('crime_pop_all.csv', encoding='cp949')"
   ]
  },
  {
   "cell_type": "code",
   "execution_count": 57,
   "metadata": {},
   "outputs": [],
   "source": [
    "weather = pd.merge(month_crime, weather, on='일시')"
   ]
  },
  {
   "cell_type": "code",
   "execution_count": 60,
   "metadata": {},
   "outputs": [],
   "source": [
    "# 독립 변수와 종속 변수 설정\n",
    "X = weather[['강수량(mm)', '일최다강수량(mm)', '평균기온(℃)', '평균최고기온(℃)', '최고기온(℃)',\n",
    "       '평균최저기온(℃)', '최저기온(℃)', '평균풍속(m/s)', '최대풍속(m/s)', '최대순간풍속(m/s)',\n",
    "       '평균습도(%rh)', '최저습도(%rh)']] # 독립 변수\n",
    "y = weather['월_범죄건수'] # 종속 변수\n",
    "\n",
    "# 훈련 데이터와 테스트 데이터로 분할\n",
    "X_train, X_test, y_train, y_test = train_test_split(X, y, test_size=0.3, random_state=42)"
   ]
  },
  {
   "cell_type": "code",
   "execution_count": 37,
   "metadata": {},
   "outputs": [
    {
     "name": "stdout",
     "output_type": "stream",
     "text": [
      "Mean Squared Error: 966405.2198727273\n",
      "Mean Absolute Error: 752.3981818181818\n",
      "Root Mean Squared Error: 983.0591131120891\n"
     ]
    }
   ],
   "source": [
    "# 랜덤 포레스트 회귀 모델 생성\n",
    "model_rf = RandomForestRegressor(n_estimators=100, random_state=42)\n",
    "\n",
    "# 모델 학습\n",
    "model_rf.fit(X_train, y_train)\n",
    "\n",
    "# 테스트 데이터로 예측\n",
    "y_pred_rf = model_rf.predict(X_test)\n",
    "\n",
    "# 평가 지표 계산 (예: 평균 제곱 오차)\n",
    "mse_rf = mean_squared_error(y_test, y_pred_rf)\n",
    "print(\"Mean Squared Error:\", mse_rf)\n",
    "\n",
    "# MAE 계산\n",
    "mae_rf = mean_absolute_error(y_test, y_pred_rf)\n",
    "print(\"Mean Absolute Error:\", mae_rf)\n",
    "\n",
    "# RMSE 계산\n",
    "rmse_rf = np.sqrt(mean_squared_error(y_test, y_pred_rf))\n",
    "print(\"Root Mean Squared Error:\", rmse_rf)"
   ]
  },
  {
   "cell_type": "code",
   "execution_count": 38,
   "metadata": {},
   "outputs": [
    {
     "name": "stdout",
     "output_type": "stream",
     "text": [
      "Mean Squared Error: 1185931.0654800946\n",
      "Mean Absolute Error: 825.8025048307103\n",
      "Root Mean Squared Error: 1089.0046214227443\n"
     ]
    }
   ],
   "source": [
    "# 서포트벡터머신 회귀 모델 생성\n",
    "model_svm = SVR()\n",
    "\n",
    "# 모델 학습\n",
    "model_svm.fit(X_train, y_train)\n",
    "\n",
    "# 테스트 데이터로 예측\n",
    "y_pred_svm = model_svm.predict(X_test)\n",
    "\n",
    "# 평가 지표 계산 (예: 평균 제곱 오차)\n",
    "mse_svm = mean_squared_error(y_test, y_pred_svm)\n",
    "print(\"Mean Squared Error:\", mse_svm)\n",
    "\n",
    "# MAE 계산\n",
    "mae_svm = mean_absolute_error(y_test, y_pred_svm)\n",
    "print(\"Mean Absolute Error:\", mae_svm)\n",
    "\n",
    "# RMSE 계산\n",
    "rmse_svm = np.sqrt(mean_squared_error(y_test, y_pred_svm))\n",
    "print(\"Root Mean Squared Error:\", rmse_svm)"
   ]
  },
  {
   "cell_type": "code",
   "execution_count": 40,
   "metadata": {},
   "outputs": [
    {
     "name": "stdout",
     "output_type": "stream",
     "text": [
      "Mean Squared Error: 1816338.2727272727\n",
      "Mean Absolute Error: 1091.5454545454545\n",
      "Root Mean Squared Error: 1347.7159466027226\n"
     ]
    }
   ],
   "source": [
    "# X_train, X_test, y_train, y_test = train_test_split(X, y, test_size=0.2, random_state=42)\n",
    "\n",
    "# 의사결정트리 회귀 모델 생성\n",
    "model_dt = DecisionTreeRegressor(random_state=42)\n",
    "\n",
    "# 모델 학습\n",
    "model_dt.fit(X_train, y_train)\n",
    "\n",
    "# 테스트 데이터로 예측\n",
    "y_pred_dt = model_dt.predict(X_test)\n",
    "\n",
    "# 평가 지표 계산 (예: 평균 제곱 오차)\n",
    "mse_dt = mean_squared_error(y_test, y_pred_dt)\n",
    "print(\"Mean Squared Error:\", mse_dt)\n",
    "\n",
    "# MAE 계산\n",
    "mae_dt = mean_absolute_error(y_test, y_pred_dt)\n",
    "print(\"Mean Absolute Error:\", mae_dt)\n",
    "\n",
    "# RMSE 계산\n",
    "rmse_dt = np.sqrt(mean_squared_error(y_test, y_pred_dt))\n",
    "print(\"Root Mean Squared Error:\", rmse_dt)\n"
   ]
  },
  {
   "cell_type": "code",
   "execution_count": null,
   "metadata": {},
   "outputs": [],
   "source": []
  },
  {
   "cell_type": "markdown",
   "metadata": {},
   "source": [
    "### 예측 모델 정확도 비교"
   ]
  },
  {
   "cell_type": "code",
   "execution_count": 49,
   "metadata": {},
   "outputs": [
    {
     "data": {
      "text/html": [
       "<div>\n",
       "<style scoped>\n",
       "    .dataframe tbody tr th:only-of-type {\n",
       "        vertical-align: middle;\n",
       "    }\n",
       "\n",
       "    .dataframe tbody tr th {\n",
       "        vertical-align: top;\n",
       "    }\n",
       "\n",
       "    .dataframe thead th {\n",
       "        text-align: right;\n",
       "    }\n",
       "</style>\n",
       "<table border=\"1\" class=\"dataframe\">\n",
       "  <thead>\n",
       "    <tr style=\"text-align: right;\">\n",
       "      <th></th>\n",
       "      <th>Model</th>\n",
       "      <th>MSE</th>\n",
       "      <th>MAE</th>\n",
       "      <th>RMSE</th>\n",
       "    </tr>\n",
       "  </thead>\n",
       "  <tbody>\n",
       "    <tr>\n",
       "      <th>0</th>\n",
       "      <td>RF</td>\n",
       "      <td>966405.22</td>\n",
       "      <td>752.40</td>\n",
       "      <td>983.06</td>\n",
       "    </tr>\n",
       "    <tr>\n",
       "      <th>1</th>\n",
       "      <td>SVM</td>\n",
       "      <td>1185931.07</td>\n",
       "      <td>825.80</td>\n",
       "      <td>1089.00</td>\n",
       "    </tr>\n",
       "    <tr>\n",
       "      <th>2</th>\n",
       "      <td>DT</td>\n",
       "      <td>1816338.27</td>\n",
       "      <td>1091.55</td>\n",
       "      <td>1347.72</td>\n",
       "    </tr>\n",
       "  </tbody>\n",
       "</table>\n",
       "</div>"
      ],
      "text/plain": [
       "  Model         MSE      MAE     RMSE\n",
       "0    RF   966405.22   752.40   983.06\n",
       "1   SVM  1185931.07   825.80  1089.00\n",
       "2    DT  1816338.27  1091.55  1347.72"
      ]
     },
     "execution_count": 49,
     "metadata": {},
     "output_type": "execute_result"
    }
   ],
   "source": [
    "# 각 모델의 평가 지표 결과\n",
    "results = {\n",
    "    'Model': ['RF', 'SVM', 'DT'],\n",
    "    'MSE': [round(mse_rf, 2), round(mse_svm, 2), round(mse_dt, 2)],\n",
    "    'MAE': [round(mae_rf, 2), round(mae_svm, 2), round(mae_dt, 2)],\n",
    "    'RMSE': [round(rmse_rf, 2), round(rmse_svm, 2), round(rmse_dt, 2)]\n",
    "}\n",
    "\n",
    "\n",
    "\n",
    "# 데이터프레임 생성\n",
    "results_df = pd.DataFrame(results)\n",
    "results_df.to_csv('model_result.csv', encoding='cp949', index=False)\n",
    "results_df"
   ]
  },
  {
   "cell_type": "markdown",
   "metadata": {},
   "source": [
    "### 이상치 처리 및 앙상블 기법"
   ]
  },
  {
   "cell_type": "code",
   "execution_count": 50,
   "metadata": {},
   "outputs": [
    {
     "name": "stdout",
     "output_type": "stream",
     "text": [
      "Mean Squared Error: 966405.2198727273\n",
      "Mean Absolute Error: 752.3981818181818\n",
      "Root Mean Squared Error: 983.0591131120891\n"
     ]
    }
   ],
   "source": [
    "# 랜덤 포레스트 회귀 모델 생성\n",
    "model_rf = RandomForestRegressor(n_estimators=100, random_state=42)\n",
    "\n",
    "# 모델 학습\n",
    "model_rf.fit(X_train, y_train)\n",
    "\n",
    "# 테스트 데이터로 예측\n",
    "y_pred_rf = model_rf.predict(X_test)\n",
    "\n",
    "# 평가 지표 계산 (예: 평균 제곱 오차)\n",
    "mse_rf = mean_squared_error(y_test, y_pred_rf)\n",
    "print(\"Mean Squared Error:\", mse_rf)\n",
    "\n",
    "# MAE 계산\n",
    "mae_rf = mean_absolute_error(y_test, y_pred_rf)\n",
    "print(\"Mean Absolute Error:\", mae_rf)\n",
    "\n",
    "# RMSE 계산\n",
    "rmse_rf = np.sqrt(mean_squared_error(y_test, y_pred_rf))\n",
    "print(\"Root Mean Squared Error:\", rmse_rf)"
   ]
  },
  {
   "cell_type": "code",
   "execution_count": 59,
   "metadata": {},
   "outputs": [
    {
     "name": "stdout",
     "output_type": "stream",
     "text": [
      "이상치 처리 전 데이터 개수: 36\n",
      "이상치 처리 후 데이터 개수: 36\n"
     ]
    }
   ],
   "source": [
    "def remove_outliers(df, column, threshold=3):\n",
    "    mean = df[column].mean()\n",
    "    std = df[column].std()\n",
    "    z_scores = (df[column] - mean) / std\n",
    "    outliers = df[z_scores.abs() > threshold]  # 임계값을 초과하는 Z-score를 가진 데이터는 이상치로 간주\n",
    "    df = df.drop(outliers.index)  # 이상치 제거\n",
    "    return df\n",
    "\n",
    "# 이상치 식별 및 처리\n",
    "threshold = 3  # 임계값 설정\n",
    "column = '월_범죄건수'  # 대상 칼럼 설정\n",
    "weather_no_outliers = remove_outliers(weather, column, threshold)\n",
    "\n",
    "# 처리 후 데이터 확인\n",
    "print(\"이상치 처리 전 데이터 개수:\", len(weather))\n",
    "print(\"이상치 처리 후 데이터 개수:\", len(weather_no_outliers))\n"
   ]
  },
  {
   "cell_type": "code",
   "execution_count": null,
   "metadata": {},
   "outputs": [],
   "source": []
  },
  {
   "cell_type": "code",
   "execution_count": null,
   "metadata": {},
   "outputs": [],
   "source": []
  },
  {
   "cell_type": "code",
   "execution_count": null,
   "metadata": {},
   "outputs": [],
   "source": []
  },
  {
   "cell_type": "markdown",
   "metadata": {},
   "source": []
  }
 ],
 "metadata": {
  "kernelspec": {
   "display_name": "base",
   "language": "python",
   "name": "python3"
  },
  "language_info": {
   "codemirror_mode": {
    "name": "ipython",
    "version": 3
   },
   "file_extension": ".py",
   "mimetype": "text/x-python",
   "name": "python",
   "nbconvert_exporter": "python",
   "pygments_lexer": "ipython3",
   "version": "3.11.5"
  }
 },
 "nbformat": 4,
 "nbformat_minor": 2
}
